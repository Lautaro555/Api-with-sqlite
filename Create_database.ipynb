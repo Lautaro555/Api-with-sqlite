{
 "cells": [
  {
   "attachments": {},
   "cell_type": "markdown",
   "metadata": {},
   "source": [
    "Pandas library is imported"
   ]
  },
  {
   "cell_type": "code",
   "execution_count": 1,
   "metadata": {},
   "outputs": [],
   "source": [
    "import pandas as pd"
   ]
  },
  {
   "attachments": {},
   "cell_type": "markdown",
   "metadata": {},
   "source": [
    "Datasets are loaded with pandas"
   ]
  },
  {
   "cell_type": "code",
   "execution_count": 2,
   "metadata": {},
   "outputs": [],
   "source": [
    "amazon=pd.read_csv(r\"Datasets_original\\amazon_prime_titles.csv\", sep=\",\")\n",
    "disney=pd.read_csv(r\"Datasets_original\\disney_plus_titles.csv\", sep=\",\")\n",
    "hulu=pd.read_csv(r\"Datasets_original\\hulu_titles.csv\", sep=\",\")\n",
    "netflix=pd.read_json(r\"Datasets_original\\netflix_titles.json\") "
   ]
  },
  {
   "attachments": {},
   "cell_type": "markdown",
   "metadata": {},
   "source": [
    "Duplicated rows are eliminated, based on the column \"title\""
   ]
  },
  {
   "cell_type": "code",
   "execution_count": 3,
   "metadata": {},
   "outputs": [],
   "source": [
    "hulu.drop_duplicates(subset=[\"title\"],inplace=True)\n",
    "hulu.drop_duplicates(inplace=True)\n",
    "\n",
    "\n",
    "netflix.drop_duplicates(subset=[\"title\"],inplace=True)\n",
    "netflix.drop_duplicates(inplace=True)\n",
    "\n",
    "\n",
    "disney.drop_duplicates(subset=[\"title\"],inplace=True)\n",
    "disney.drop_duplicates(inplace=True)\n",
    "\n",
    "\n",
    "amazon.drop_duplicates(subset=[\"title\"],inplace=True)\n",
    "amazon.drop_duplicates(inplace=True)"
   ]
  },
  {
   "attachments": {},
   "cell_type": "markdown",
   "metadata": {},
   "source": [
    "All null values are replaced with 0"
   ]
  },
  {
   "cell_type": "code",
   "execution_count": 4,
   "metadata": {},
   "outputs": [],
   "source": [
    "amazon.fillna(0,inplace=True)\n",
    "netflix.fillna(0,inplace=True)\n",
    "hulu.fillna(0,inplace=True)\n",
    "disney.fillna(0,inplace=True)"
   ]
  },
  {
   "attachments": {},
   "cell_type": "markdown",
   "metadata": {},
   "source": [
    "All strings in column duration are eliminated"
   ]
  },
  {
   "cell_type": "code",
   "execution_count": 5,
   "metadata": {},
   "outputs": [],
   "source": [
    "list_replace=[\" min\",\" Season\",\" Seasons\",\"s\"]\n",
    "list_value=[\"\",\"\",\"\",\"\"]\n",
    "amazon[\"duration\"]=amazon[\"duration\"].replace(list_replace,list_value,regex=True)\n",
    "netflix[\"duration\"]=netflix[\"duration\"].replace(list_replace,list_value,regex=True)\n",
    "hulu[\"duration\"]=hulu[\"duration\"].replace(list_replace,list_value,regex=True)\n",
    "disney[\"duration\"]=disney[\"duration\"].replace(list_replace,list_value,regex=True)"
   ]
  },
  {
   "attachments": {},
   "cell_type": "markdown",
   "metadata": {},
   "source": [
    "Then the data types of the \"duration\" and \"release_year\" columns are changed to integer"
   ]
  },
  {
   "cell_type": "code",
   "execution_count": 6,
   "metadata": {},
   "outputs": [],
   "source": [
    "amazon[\"duration\"]=amazon[\"duration\"].astype(int)\n",
    "hulu[\"duration\"]=hulu[\"duration\"].astype(int)\n",
    "netflix[\"duration\"]=netflix[\"duration\"].astype(int)\n",
    "disney[\"duration\"]=disney[\"duration\"].astype(int)\n",
    "\n",
    "amazon[\"release_year\"]=amazon[\"release_year\"].astype(int)\n",
    "hulu[\"release_year\"]=hulu[\"release_year\"].astype(int)\n",
    "netflix[\"release_year\"]=netflix[\"release_year\"].astype(int)\n",
    "disney[\"release_year\"]=disney[\"release_year\"].astype(int)"
   ]
  },
  {
   "attachments": {},
   "cell_type": "markdown",
   "metadata": {},
   "source": [
    "All spaces after commas are eliminated to normalize the cast and genre names"
   ]
  },
  {
   "cell_type": "code",
   "execution_count": null,
   "metadata": {},
   "outputs": [],
   "source": [
    "amazon[\"cast\"]=amazon[\"cast\"].replace(\", \",\",\",regex=True)\n",
    "hulu[\"cast\"]=hulu[\"cast\"].replace(\", \",\",\",regex=True)\n",
    "netflix[\"cast\"]=netflix[\"cast\"].replace(\", \",\",\",regex=True)\n",
    "disney[\"cast\"]=disney[\"cast\"].replace(\", \",\",\",regex=True)\n",
    "\n",
    "amazon[\"listed_in\"]=amazon[\"listed_in\"].replace(\", \",\",\",regex=True)\n",
    "hulu[\"listed_in\"]=hulu[\"listed_in\"].replace(\", \",\",\",regex=True)\n",
    "netflix[\"listed_in\"]=netflix[\"listed_in\"].replace(\", \",\",\",regex=True)\n",
    "disney[\"listed_in\"]=disney[\"listed_in\"].replace(\", \",\",\",regex=True)"
   ]
  },
  {
   "attachments": {},
   "cell_type": "markdown",
   "metadata": {},
   "source": [
    "\"date_added\" column data type is change to datetime"
   ]
  },
  {
   "cell_type": "code",
   "execution_count": null,
   "metadata": {},
   "outputs": [],
   "source": [
    "amazon[\"date_added\"]=amazon[\"date_added\"].replace(\" \",\"\",regex=True)\n",
    "netflix[\"date_added\"]=netflix[\"date_added\"].replace(\" \",\"\",regex=True)\n",
    "hulu[\"date_added\"]=hulu[\"date_added\"].replace(\" \",\"\",regex=True)\n",
    "disney[\"date_added\"]=disney[\"date_added\"].replace(\" \",\"\",regex=True)\n",
    "\n",
    "amazon['date_added'] = pd.to_datetime(amazon[(amazon[\"date_added\"]!=0)]['date_added'], format='%B%d,%Y')\n",
    "hulu['date_added'] = pd.to_datetime(hulu[(hulu[\"date_added\"]!=0)]['date_added'], format='%B%d,%Y')\n",
    "netflix['date_added'] = pd.to_datetime(netflix[(netflix[\"date_added\"]!=0)]['date_added'], format='%B%d,%Y')\n",
    "disney['date_added'] = pd.to_datetime(disney[(disney[\"date_added\"]!=0)]['date_added'], format='%B%d,%Y')"
   ]
  },
  {
   "attachments": {},
   "cell_type": "markdown",
   "metadata": {},
   "source": [
    "column show_id is eliminated because is offer no important info"
   ]
  },
  {
   "cell_type": "code",
   "execution_count": null,
   "metadata": {},
   "outputs": [],
   "source": [
    "amazon.drop('show_id', axis=1, inplace=True)\n",
    "hulu.drop('show_id', axis=1, inplace=True)\n",
    "netflix.drop('show_id', axis=1, inplace=True)\n",
    "disney.drop('show_id', axis=1, inplace=True)"
   ]
  },
  {
   "attachments": {},
   "cell_type": "markdown",
   "metadata": {},
   "source": [
    "The modified datasets are saved as .csv files for future modification or use"
   ]
  },
  {
   "cell_type": "code",
   "execution_count": null,
   "metadata": {},
   "outputs": [],
   "source": [
    "amazon.to_csv(r\"Clean_datasets\\amazon.csv\",index=False)\n",
    "hulu.to_csv(r\"Clean_datasets\\hulu.csv\",index=False)\n",
    "netflix.to_csv(r\"Clean_datasets\\netflix.csv\",index=False)\n",
    "disney.to_csv(r\"Clean_datasets\\disney.csv\",index=False)"
   ]
  },
  {
   "attachments": {},
   "cell_type": "markdown",
   "metadata": {},
   "source": [
    "SQLite3 library is imported"
   ]
  },
  {
   "cell_type": "code",
   "execution_count": null,
   "metadata": {},
   "outputs": [],
   "source": [
    "import sqlite3"
   ]
  },
  {
   "attachments": {},
   "cell_type": "markdown",
   "metadata": {},
   "source": [
    "A new database call database.db is created and then a table per platform is added to the database, with its respective dataset data"
   ]
  },
  {
   "cell_type": "code",
   "execution_count": null,
   "metadata": {},
   "outputs": [],
   "source": [
    "conn = sqlite3.connect(\"app\\Database.db\")\n",
    "\n",
    "\n",
    "amazon.to_sql(\"amazon\", conn, if_exists='replace', index=False)\n",
    "hulu.to_sql(\"hulu\", conn, if_exists='replace', index=False)\n",
    "netflix.to_sql(\"netflix\", conn, if_exists='replace', index=False)\n",
    "disney.to_sql(\"disney\", conn, if_exists='replace', index=False)\n",
    "\n",
    "conn.close()"
   ]
  }
 ],
 "metadata": {
  "kernelspec": {
   "display_name": "Python 3",
   "language": "python",
   "name": "python3"
  },
  "language_info": {
   "codemirror_mode": {
    "name": "ipython",
    "version": 3
   },
   "file_extension": ".py",
   "mimetype": "text/x-python",
   "name": "python",
   "nbconvert_exporter": "python",
   "pygments_lexer": "ipython3",
   "version": "3.10.7 (tags/v3.10.7:6cc6b13, Sep  5 2022, 14:08:36) [MSC v.1933 64 bit (AMD64)]"
  },
  "orig_nbformat": 4,
  "vscode": {
   "interpreter": {
    "hash": "2711725d473bbbc5495942fb8452d9b92540956864e278750e6f52a820e4fcee"
   }
  }
 },
 "nbformat": 4,
 "nbformat_minor": 2
}
